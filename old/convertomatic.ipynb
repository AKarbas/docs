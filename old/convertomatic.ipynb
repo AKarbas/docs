{
 "cells": [
  {
   "cell_type": "markdown",
   "metadata": {
    "deletable": true,
    "editable": true
   },
   "source": [
    "Converting from a dump of rendered HTML that was in Chameleon's Django CMS database"
   ]
  },
  {
   "cell_type": "code",
   "execution_count": 1,
   "metadata": {
    "collapsed": true,
    "deletable": true,
    "editable": true
   },
   "outputs": [],
   "source": [
    "import hashlib\n",
    "import json\n",
    "import string\n",
    "\n",
    "import parsel"
   ]
  },
  {
   "cell_type": "code",
   "execution_count": 2,
   "metadata": {
    "collapsed": false,
    "deletable": true,
    "editable": true
   },
   "outputs": [],
   "source": [
    "with open('./dump.json', 'r', encoding='utf-8') as f:\n",
    "    dump = json.load(f)"
   ]
  },
  {
   "cell_type": "code",
   "execution_count": 3,
   "metadata": {
    "collapsed": false,
    "deletable": true,
    "editable": true
   },
   "outputs": [
    {
     "data": {
      "text/plain": [
       "(list, 136)"
      ]
     },
     "execution_count": 3,
     "metadata": {},
     "output_type": "execute_result"
    }
   ],
   "source": [
    "type(dump), len(dump)"
   ]
  },
  {
   "cell_type": "code",
   "execution_count": 4,
   "metadata": {
    "collapsed": false,
    "deletable": true,
    "editable": true
   },
   "outputs": [
    {
     "data": {
      "text/plain": [
       "dict"
      ]
     },
     "execution_count": 4,
     "metadata": {},
     "output_type": "execute_result"
    }
   ],
   "source": [
    "type(dump[0])"
   ]
  },
  {
   "cell_type": "code",
   "execution_count": 5,
   "metadata": {
    "collapsed": false,
    "deletable": true,
    "editable": true
   },
   "outputs": [
    {
     "data": {
      "text/plain": [
       "dict_keys(['cmsplugin_ptr_id', 'body'])"
      ]
     },
     "execution_count": 5,
     "metadata": {},
     "output_type": "execute_result"
    }
   ],
   "source": [
    "dump[0].keys()"
   ]
  },
  {
   "cell_type": "code",
   "execution_count": 6,
   "metadata": {
    "collapsed": false,
    "deletable": true,
    "editable": true
   },
   "outputs": [
    {
     "data": {
      "text/plain": [
       "'0, 0, 19, 22, 22, 31, 53, 56, 58, 72, 155, 156, 164, 164, 169, 169, 172, 173, 174, 240, 264, 286, 286, 295, 296, 301, 319, 324, 326, 342, 367, 367, 375, 375, 399, 409, 420, 420, 452, 453, 453, 486, 540, 549, 563, 563, 576, 580, 639, 639, 641, 657, 904, 956, 985, 993, 1074, 1111, 1111, 1161, 1192, 1193, 1619, 1728, 1920, 1920, 2033, 2062, 2076, 2181, 2185, 2185, 2299, 2307, 2336, 2386, 2480, 2515, 2669, 2990, 2996, 3085, 3175, 3175, 3212, 3253, 3287, 3746, 3746, 5250, 5283, 5341, 5462, 5646, 5751, 6327, 6403, 6403, 6433, 6454, 6821, 7143, 7213, 7219, 7365, 7389, 8894, 9021, 9110, 9154, 9218, 9432, 9553, 9586, 10664, 11069, 11702, 11777, 14960, 15820, 15851, 17813, 22932, 24345, 26584, 26674, 26880, 26975, 32532, 32666, 37036, 37717, 43075, 44965, 70808, 70859'"
      ]
     },
     "execution_count": 6,
     "metadata": {},
     "output_type": "execute_result"
    }
   ],
   "source": [
    "', '.join(\n",
    "    str(x) \n",
    "    for x \n",
    "    in sorted(len(d['body']) for d in dump)\n",
    ")"
   ]
  },
  {
   "cell_type": "code",
   "execution_count": 7,
   "metadata": {
    "collapsed": true,
    "deletable": true,
    "editable": true
   },
   "outputs": [],
   "source": [
    "stop_words = {'on', 'and', 'the', 'for', 'a', 'an', 'to'}\n",
    "def normalize(title):\n",
    "    words = title.split()\n",
    "    return '-'.join(''.join(c for c in w.lower() if c in string.ascii_letters) for w in words if w not in stop_words)"
   ]
  },
  {
   "cell_type": "code",
   "execution_count": 8,
   "metadata": {
    "collapsed": false,
    "deletable": true,
    "editable": true
   },
   "outputs": [],
   "source": [
    "def infer_name(body):\n",
    "    if not body.strip():\n",
    "        return None\n",
    "\n",
    "    sel = parsel.Selector(body)\n",
    "    for hlevel in range(1, 4+1):\n",
    "        header = sel.xpath('//h{:d}//text()'.format(hlevel)).extract_first()\n",
    "        if header:\n",
    "            break\n",
    "    else:\n",
    "        return None\n",
    "\n",
    "    return normalize(header.strip())"
   ]
  },
  {
   "cell_type": "code",
   "execution_count": 9,
   "metadata": {
    "collapsed": false,
    "deletable": true,
    "editable": true
   },
   "outputs": [
    {
     "data": {
      "text/plain": [
       "74"
      ]
     },
     "execution_count": 9,
     "metadata": {},
     "output_type": "execute_result"
    }
   ],
   "source": [
    "docs = {}\n",
    "seen = set()\n",
    "for doc in dump:\n",
    "    if len(doc['body']) < 1000:\n",
    "        continue\n",
    "    hash_ = hashlib.md5(doc['body'].encode('utf-8')).hexdigest()\n",
    "    if hash_ in seen:\n",
    "        continue\n",
    "    seen.add(hash_)\n",
    "    \n",
    "    name = infer_name(doc['body'])\n",
    "    if name in docs:\n",
    "        for n in range(2, 20):\n",
    "            other_name = '{}-{}'.format(name, n)\n",
    "            if other_name not in docs:\n",
    "                name = other_name\n",
    "                break\n",
    "        else:\n",
    "            raise RuntimeError('too many things named \"{}\"'.format(name))\n",
    "    \n",
    "    docs[name] = doc['body']\n",
    "len(docs)"
   ]
  },
  {
   "cell_type": "code",
   "execution_count": 10,
   "metadata": {
    "collapsed": false,
    "deletable": true,
    "editable": true
   },
   "outputs": [
    {
     "data": {
      "text/plain": [
       "dict_keys(['nsfcloud-workshop-experimental-support-cloud-computing', 'about', 'openstack-kvm-user-guide', 'hotel-user-guide', 'openstack-load-balancer-as-service-user-guide', 'default-chameleon-environment', 'image-management', 'activating-futuregrid-project', 'openstack-load-balancer-as-service-user-guide-2', 'getting-started', 'using-resource-discovery-api', 'using-resource-discovery-api-2', 'talks-about-chameleon-project', 'a-configurable-experimental-environment-largescale-cloud-research', 'pi-eligibility', 'bare-metal-user-guide', 'project-policies', 'chameleon-documentation', 'about-2', 'standard-cloud-units', 'appliances', 'centos--appliance', 'project-policies-2', 'centos--kvm-sriov-appliance', 'centos--kvm-sriov-appliance-2', 'ironic-user-guide', 'centos--docker-appliance', 'centos--appliance-2', 'centos--docker-appliance-2', 'openstack-kvm-user-guide-2', 'nsfcloud-workshop-experimental-support-cloud-computing-2', 'appliances-2', 'bare-metal-user-guide-2', 'configure-interact-with-resources-using-web-interface', 'discover-resources-using-command-line', 'provision-resources-using-command-line', 'provision-resources-using-web-interface', 'configure-interact-with-resources-using-command-line', 'discover-resources-using-web-interface', 'monitor-resources-collect-results', 'bare-metal-guide-beginning-users', 'frequently-asked-questions', 'chameleon-object-store--quickstart', 'about-3', 'talks-about-chameleon-project-2', 'community', 'complex-appliances', 'complex-appliances-2', 'bare-metal-user-guide-3', 'discover-resources-using-command-line-2', 'discover-resources-using-web-interface-2', 'using-fpgas-chameleon', 'configure-interact-with-resources-using-web-interface-2', 'chameleon-object-store', 'chameleon-object-store-2', 'community-2', 'bare-metal-user-guide-4', 'monitor-resources-collect-results-2', 'using-fpgas-chameleon-2', 'network-isolation-bare-metal', 'image-management-2', 'provision-resources-using-command-line-2', 'quickstart', 'hardware-description', 'standard-cloud-units-2', 'frequently-asked-questions-2', 'provision-resources-using-web-interface-2', 'network-isolation-bare-metal-2', 'a-configurable-experimental-environment-largescale-cloud-research-2', 'getting-started-2', 'bare-metal-user-guide-5', 'configure-interact-with-resources-using-command-line-2', 'launching-complex-appliance', 'introduction-chameleon'])"
      ]
     },
     "execution_count": 10,
     "metadata": {},
     "output_type": "execute_result"
    }
   ],
   "source": [
    "docs.keys()"
   ]
  },
  {
   "cell_type": "code",
   "execution_count": 11,
   "metadata": {
    "collapsed": false,
    "deletable": true,
    "editable": true
   },
   "outputs": [],
   "source": [
    "import os\n",
    "os.environ.setdefault('PYPANDOC_PANDOC', '/usr/local/bin/pandoc')\n",
    "\n",
    "import pypandoc"
   ]
  },
  {
   "cell_type": "code",
   "execution_count": 12,
   "metadata": {
    "collapsed": false,
    "deletable": true,
    "editable": true
   },
   "outputs": [],
   "source": [
    "for doc, html in docs.items():\n",
    "    rst = pypandoc.convert_text(html, 'rst', 'html')\n",
    "    with open('{}.rst'.format(doc), 'w', encoding='utf-8') as f:\n",
    "        f.write(rst)"
   ]
  },
  {
   "cell_type": "code",
   "execution_count": null,
   "metadata": {
    "collapsed": true,
    "deletable": true,
    "editable": true
   },
   "outputs": [],
   "source": []
  }
 ],
 "metadata": {
  "kernelspec": {
   "display_name": "Python 3.6",
   "language": "python",
   "name": "py36"
  },
  "language_info": {
   "codemirror_mode": {
    "name": "ipython",
    "version": 3
   },
   "file_extension": ".py",
   "mimetype": "text/x-python",
   "name": "python",
   "nbconvert_exporter": "python",
   "pygments_lexer": "ipython3",
   "version": "3.6.1"
  }
 },
 "nbformat": 4,
 "nbformat_minor": 2
}
